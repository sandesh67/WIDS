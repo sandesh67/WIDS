{
 "cells": [
  {
   "cell_type": "markdown",
   "metadata": {
    "papermill": {
     "duration": 0.014551,
     "end_time": "2021-01-15T20:48:11.464680",
     "exception": false,
     "start_time": "2021-01-15T20:48:11.450129",
     "status": "completed"
    },
    "tags": []
   },
   "source": [
    "****Reading Inputs****"
   ]
  },
  {
   "cell_type": "code",
   "execution_count": 1,
   "metadata": {
    "execution": {
     "iopub.execute_input": "2021-01-15T20:48:11.491019Z",
     "iopub.status.busy": "2021-01-15T20:48:11.490523Z",
     "iopub.status.idle": "2021-01-15T20:48:12.635158Z",
     "shell.execute_reply": "2021-01-15T20:48:12.634248Z"
    },
    "papermill": {
     "duration": 1.158512,
     "end_time": "2021-01-15T20:48:12.635263",
     "exception": false,
     "start_time": "2021-01-15T20:48:11.476751",
     "status": "completed"
    },
    "tags": []
   },
   "outputs": [],
   "source": [
    "import numpy as np \n",
    "import pandas as pd\n",
    "from sklearn.model_selection import train_test_split\n",
    "from sklearn.preprocessing import LabelEncoder\n",
    "from sklearn.ensemble import GradientBoostingClassifier\n",
    "from lightgbm import LGBMClassifier\n",
    "from sklearn import metrics\n",
    "\n",
    "pd.set_option(\"display.max_columns\", 181)\n",
    "pd.set_option(\"display.min_rows\", 200)"
   ]
  },
  {
   "cell_type": "code",
   "execution_count": 2,
   "metadata": {
    "_cell_guid": "79c7e3d0-c299-4dcb-8224-4455121ee9b0",
    "_uuid": "d629ff2d2480ee46fbb7e2d37f6b5fab8052498a",
    "execution": {
     "iopub.execute_input": "2021-01-15T20:48:12.668887Z",
     "iopub.status.busy": "2021-01-15T20:48:12.668375Z",
     "iopub.status.idle": "2021-01-15T20:48:16.489386Z",
     "shell.execute_reply": "2021-01-15T20:48:16.490196Z"
    },
    "papermill": {
     "duration": 3.841124,
     "end_time": "2021-01-15T20:48:16.490357",
     "exception": false,
     "start_time": "2021-01-15T20:48:12.649233",
     "status": "completed"
    },
    "tags": []
   },
   "outputs": [],
   "source": [
    "data_dictionary = pd.read_csv(\"DataDictionaryWiDS2021.csv\")\n",
    "unlabeled = pd.read_csv(\"UnlabeledWiDS2021.csv\")\n",
    "training = pd.read_csv(\"TrainingWiDS2021.csv\")"
   ]
  },
  {
   "cell_type": "code",
   "execution_count": 3,
   "metadata": {
    "execution": {
     "iopub.execute_input": "2021-01-15T20:48:16.527210Z",
     "iopub.status.busy": "2021-01-15T20:48:16.526700Z",
     "iopub.status.idle": "2021-01-15T20:48:16.530344Z",
     "shell.execute_reply": "2021-01-15T20:48:16.529925Z"
    },
    "papermill": {
     "duration": 0.026756,
     "end_time": "2021-01-15T20:48:16.530475",
     "exception": false,
     "start_time": "2021-01-15T20:48:16.503719",
     "status": "completed"
    },
    "tags": []
   },
   "outputs": [],
   "source": [
    "column_datatype_mapping = dict(zip(data_dictionary['Variable Name'], data_dictionary['Data Type']))"
   ]
  },
  {
   "cell_type": "code",
   "execution_count": 4,
   "metadata": {
    "execution": {
     "iopub.execute_input": "2021-01-15T20:48:16.559478Z",
     "iopub.status.busy": "2021-01-15T20:48:16.558648Z",
     "iopub.status.idle": "2021-01-15T20:48:16.568954Z",
     "shell.execute_reply": "2021-01-15T20:48:16.568349Z"
    },
    "papermill": {
     "duration": 0.025676,
     "end_time": "2021-01-15T20:48:16.569051",
     "exception": false,
     "start_time": "2021-01-15T20:48:16.543375",
     "status": "completed"
    },
    "tags": []
   },
   "outputs": [],
   "source": [
    "del training['Unnamed: 0']\n",
    "del unlabeled['Unnamed: 0']"
   ]
  },
  {
   "cell_type": "code",
   "execution_count": 5,
   "metadata": {},
   "outputs": [],
   "source": [
    "training=training[['encounter_id','age','bmi','height','weight','ethnicity','gender','apache_2_diagnosis','glucose_apache','diabetes_mellitus']]"
   ]
  },
  {
   "cell_type": "code",
   "execution_count": 6,
   "metadata": {},
   "outputs": [],
   "source": [
    "unlabeled=unlabeled[['encounter_id','age','bmi','height','weight','ethnicity','gender','apache_2_diagnosis','glucose_apache']]"
   ]
  },
  {
   "cell_type": "code",
   "execution_count": 7,
   "metadata": {
    "execution": {
     "iopub.execute_input": "2021-01-15T20:48:16.598428Z",
     "iopub.status.busy": "2021-01-15T20:48:16.597555Z",
     "iopub.status.idle": "2021-01-15T20:48:16.606769Z",
     "shell.execute_reply": "2021-01-15T20:48:16.607230Z"
    },
    "papermill": {
     "duration": 0.025423,
     "end_time": "2021-01-15T20:48:16.607348",
     "exception": false,
     "start_time": "2021-01-15T20:48:16.581925",
     "status": "completed"
    },
    "tags": []
   },
   "outputs": [],
   "source": [
    "#training.diabetes_mellitus.value_counts()"
   ]
  },
  {
   "cell_type": "code",
   "execution_count": 8,
   "metadata": {
    "execution": {
     "iopub.execute_input": "2021-01-15T20:48:16.636672Z",
     "iopub.status.busy": "2021-01-15T20:48:16.636179Z",
     "iopub.status.idle": "2021-01-15T20:48:16.641567Z",
     "shell.execute_reply": "2021-01-15T20:48:16.641982Z"
    },
    "papermill": {
     "duration": 0.021568,
     "end_time": "2021-01-15T20:48:16.642080",
     "exception": false,
     "start_time": "2021-01-15T20:48:16.620512",
     "status": "completed"
    },
    "tags": []
   },
   "outputs": [
    {
     "data": {
      "text/plain": [
       "numeric    150\n",
       "binary      15\n",
       "string      10\n",
       "integer      6\n",
       "Name: Data Type, dtype: int64"
      ]
     },
     "execution_count": 8,
     "metadata": {},
     "output_type": "execute_result"
    }
   ],
   "source": [
    "data_dictionary['Data Type'].value_counts()"
   ]
  },
  {
   "cell_type": "code",
   "execution_count": 50,
   "metadata": {
    "execution": {
     "iopub.execute_input": "2021-01-15T20:48:16.672721Z",
     "iopub.status.busy": "2021-01-15T20:48:16.672225Z",
     "iopub.status.idle": "2021-01-15T20:48:16.682375Z",
     "shell.execute_reply": "2021-01-15T20:48:16.681745Z"
    },
    "papermill": {
     "duration": 0.02642,
     "end_time": "2021-01-15T20:48:16.682490",
     "exception": false,
     "start_time": "2021-01-15T20:48:16.656070",
     "status": "completed"
    },
    "tags": []
   },
   "outputs": [],
   "source": [
    "#print(training.hospital_id.nunique(), training.encounter_id.nunique())"
   ]
  },
  {
   "cell_type": "code",
   "execution_count": 51,
   "metadata": {
    "execution": {
     "iopub.execute_input": "2021-01-15T20:48:16.715459Z",
     "iopub.status.busy": "2021-01-15T20:48:16.714608Z",
     "iopub.status.idle": "2021-01-15T20:48:16.750498Z",
     "shell.execute_reply": "2021-01-15T20:48:16.750078Z"
    },
    "papermill": {
     "duration": 0.05262,
     "end_time": "2021-01-15T20:48:16.750587",
     "exception": false,
     "start_time": "2021-01-15T20:48:16.697967",
     "status": "completed"
    },
    "tags": []
   },
   "outputs": [],
   "source": [
    "#training.icu_stay_type.value_counts()"
   ]
  },
  {
   "cell_type": "code",
   "execution_count": 52,
   "metadata": {
    "execution": {
     "iopub.execute_input": "2021-01-15T20:48:16.814566Z",
     "iopub.status.busy": "2021-01-15T20:48:16.800608Z",
     "iopub.status.idle": "2021-01-15T20:48:16.816912Z",
     "shell.execute_reply": "2021-01-15T20:48:16.817288Z"
    },
    "papermill": {
     "duration": 0.05184,
     "end_time": "2021-01-15T20:48:16.817413",
     "exception": false,
     "start_time": "2021-01-15T20:48:16.765573",
     "status": "completed"
    },
    "tags": []
   },
   "outputs": [],
   "source": [
    "#training.icu_type.value_counts()"
   ]
  },
  {
   "cell_type": "code",
   "execution_count": 9,
   "metadata": {
    "execution": {
     "iopub.execute_input": "2021-01-15T20:48:16.849976Z",
     "iopub.status.busy": "2021-01-15T20:48:16.849472Z",
     "iopub.status.idle": "2021-01-15T20:48:16.853400Z",
     "shell.execute_reply": "2021-01-15T20:48:16.853868Z"
    },
    "papermill": {
     "duration": 0.021336,
     "end_time": "2021-01-15T20:48:16.853963",
     "exception": false,
     "start_time": "2021-01-15T20:48:16.832627",
     "status": "completed"
    },
    "tags": []
   },
   "outputs": [
    {
     "data": {
      "text/plain": [
       "(130157, 10234)"
      ]
     },
     "execution_count": 9,
     "metadata": {},
     "output_type": "execute_result"
    }
   ],
   "source": [
    "len(training), len(unlabeled)"
   ]
  },
  {
   "cell_type": "code",
   "execution_count": 10,
   "metadata": {
    "execution": {
     "iopub.execute_input": "2021-01-15T20:48:16.887146Z",
     "iopub.status.busy": "2021-01-15T20:48:16.886661Z",
     "iopub.status.idle": "2021-01-15T20:48:17.126027Z",
     "shell.execute_reply": "2021-01-15T20:48:17.125543Z"
    },
    "papermill": {
     "duration": 0.256627,
     "end_time": "2021-01-15T20:48:17.126134",
     "exception": false,
     "start_time": "2021-01-15T20:48:16.869507",
     "status": "completed"
    },
    "tags": []
   },
   "outputs": [
    {
     "name": "stderr",
     "output_type": "stream",
     "text": [
      "C:\\Users\\SANDESH\\Anaconda3\\lib\\site-packages\\pandas\\core\\frame.py:7123: FutureWarning: Sorting because non-concatenation axis is not aligned. A future version\n",
      "of pandas will change to not sort by default.\n",
      "\n",
      "To accept the future behavior, pass 'sort=False'.\n",
      "\n",
      "To retain the current behavior and silence the warning, pass 'sort=True'.\n",
      "\n",
      "  sort=sort,\n"
     ]
    }
   ],
   "source": [
    "all_data = training.drop(['encounter_id'], axis=1).append(unlabeled)"
   ]
  },
  {
   "cell_type": "code",
   "execution_count": 11,
   "metadata": {
    "execution": {
     "iopub.execute_input": "2021-01-15T20:48:17.167257Z",
     "iopub.status.busy": "2021-01-15T20:48:17.166757Z",
     "iopub.status.idle": "2021-01-15T20:48:17.736235Z",
     "shell.execute_reply": "2021-01-15T20:48:17.735774Z"
    },
    "papermill": {
     "duration": 0.593491,
     "end_time": "2021-01-15T20:48:17.736365",
     "exception": false,
     "start_time": "2021-01-15T20:48:17.142874",
     "status": "completed"
    },
    "tags": []
   },
   "outputs": [],
   "source": [
    "cat_cols = []\n",
    "cont_cols = []\n",
    "for col in all_data.columns:\n",
    "    if all_data.dtypes[col] == \"object\":\n",
    "        cat_cols.append(col)\n",
    "        all_data[col] = all_data[col].fillna(\"NA\")\n",
    "        all_data[col] = LabelEncoder().fit_transform(all_data[col])\n",
    "        all_data[col]= all_data[col].astype('category')\n",
    "    elif column_datatype_mapping[col] == \"binary\":\n",
    "        all_data[col] = all_data[col].fillna(-1)\n",
    "    elif column_datatype_mapping[col] == \"numeric\":\n",
    "        all_data[col] = all_data[col].fillna(0)\n",
    "        cont_cols.append(col)\n",
    "    else:\n",
    "        all_data[col] = all_data[col].fillna(all_data[col].median())\n",
    "        cont_cols.append(col)\n",
    "    "
   ]
  },
  {
   "cell_type": "code",
   "execution_count": 12,
   "metadata": {
    "execution": {
     "iopub.execute_input": "2021-01-15T20:48:17.773801Z",
     "iopub.status.busy": "2021-01-15T20:48:17.772829Z",
     "iopub.status.idle": "2021-01-15T20:48:17.776786Z",
     "shell.execute_reply": "2021-01-15T20:48:17.777182Z"
    },
    "papermill": {
     "duration": 0.024637,
     "end_time": "2021-01-15T20:48:17.777291",
     "exception": false,
     "start_time": "2021-01-15T20:48:17.752654",
     "status": "completed"
    },
    "tags": []
   },
   "outputs": [
    {
     "data": {
      "text/plain": [
       "(140391, 10235)"
      ]
     },
     "execution_count": 12,
     "metadata": {},
     "output_type": "execute_result"
    }
   ],
   "source": [
    "len(all_data), all_data.encounter_id.nunique()"
   ]
  },
  {
   "cell_type": "code",
   "execution_count": 13,
   "metadata": {
    "execution": {
     "iopub.execute_input": "2021-01-15T20:48:17.812684Z",
     "iopub.status.busy": "2021-01-15T20:48:17.812171Z",
     "iopub.status.idle": "2021-01-15T20:48:17.819907Z",
     "shell.execute_reply": "2021-01-15T20:48:17.820340Z"
    },
    "papermill": {
     "duration": 0.026812,
     "end_time": "2021-01-15T20:48:17.820446",
     "exception": false,
     "start_time": "2021-01-15T20:48:17.793634",
     "status": "completed"
    },
    "tags": []
   },
   "outputs": [],
   "source": [
    "df_train = all_data[:len(training)]\n",
    "df_pred = all_data[len(training):].reset_index(drop=True)\n",
    "Y = training['diabetes_mellitus']"
   ]
  },
  {
   "cell_type": "code",
   "execution_count": 14,
   "metadata": {
    "execution": {
     "iopub.execute_input": "2021-01-15T20:48:17.856541Z",
     "iopub.status.busy": "2021-01-15T20:48:17.855742Z",
     "iopub.status.idle": "2021-01-15T20:48:18.120285Z",
     "shell.execute_reply": "2021-01-15T20:48:18.120743Z"
    },
    "papermill": {
     "duration": 0.284108,
     "end_time": "2021-01-15T20:48:18.120878",
     "exception": false,
     "start_time": "2021-01-15T20:48:17.836770",
     "status": "completed"
    },
    "tags": []
   },
   "outputs": [],
   "source": [
    "X_train, X_val, y_train, y_val = train_test_split(df_train, Y, test_size=0.20, random_state=42,shuffle=True )"
   ]
  },
  {
   "cell_type": "code",
   "execution_count": 15,
   "metadata": {
    "execution": {
     "iopub.execute_input": "2021-01-15T20:48:18.157512Z",
     "iopub.status.busy": "2021-01-15T20:48:18.156727Z",
     "iopub.status.idle": "2021-01-15T20:48:18.160137Z",
     "shell.execute_reply": "2021-01-15T20:48:18.160609Z"
    },
    "papermill": {
     "duration": 0.022688,
     "end_time": "2021-01-15T20:48:18.160714",
     "exception": false,
     "start_time": "2021-01-15T20:48:18.138026",
     "status": "completed"
    },
    "tags": []
   },
   "outputs": [],
   "source": [
    "lgbmc = LGBMClassifier()"
   ]
  },
  {
   "cell_type": "code",
   "execution_count": 16,
   "metadata": {
    "execution": {
     "iopub.execute_input": "2021-01-15T20:48:18.196752Z",
     "iopub.status.busy": "2021-01-15T20:48:18.195965Z",
     "iopub.status.idle": "2021-01-15T20:48:24.688604Z",
     "shell.execute_reply": "2021-01-15T20:48:24.689131Z"
    },
    "papermill": {
     "duration": 6.511726,
     "end_time": "2021-01-15T20:48:24.689276",
     "exception": false,
     "start_time": "2021-01-15T20:48:18.177550",
     "status": "completed"
    },
    "tags": []
   },
   "outputs": [
    {
     "data": {
      "text/plain": [
       "LGBMClassifier(boosting_type='gbdt', class_weight=None, colsample_bytree=1.0,\n",
       "               importance_type='split', learning_rate=0.1, max_depth=-1,\n",
       "               min_child_samples=20, min_child_weight=0.001, min_split_gain=0.0,\n",
       "               n_estimators=100, n_jobs=-1, num_leaves=31, objective=None,\n",
       "               random_state=None, reg_alpha=0.0, reg_lambda=0.0, silent=True,\n",
       "               subsample=1.0, subsample_for_bin=200000, subsample_freq=0)"
      ]
     },
     "execution_count": 16,
     "metadata": {},
     "output_type": "execute_result"
    }
   ],
   "source": [
    "lgbmc.fit(X_train, y_train)"
   ]
  },
  {
   "cell_type": "code",
   "execution_count": 17,
   "metadata": {
    "execution": {
     "iopub.execute_input": "2021-01-15T20:48:24.744242Z",
     "iopub.status.busy": "2021-01-15T20:48:24.743565Z",
     "iopub.status.idle": "2021-01-15T20:48:24.895395Z",
     "shell.execute_reply": "2021-01-15T20:48:24.895875Z"
    },
    "papermill": {
     "duration": 0.185241,
     "end_time": "2021-01-15T20:48:24.896022",
     "exception": false,
     "start_time": "2021-01-15T20:48:24.710781",
     "status": "completed"
    },
    "tags": []
   },
   "outputs": [
    {
     "data": {
      "text/plain": [
       "1.0"
      ]
     },
     "execution_count": 17,
     "metadata": {},
     "output_type": "execute_result"
    }
   ],
   "source": [
    "lgbmc.score(X_val, y_val)"
   ]
  },
  {
   "cell_type": "code",
   "execution_count": 18,
   "metadata": {
    "execution": {
     "iopub.execute_input": "2021-01-15T20:48:24.949697Z",
     "iopub.status.busy": "2021-01-15T20:48:24.948934Z",
     "iopub.status.idle": "2021-01-15T20:48:33.333504Z",
     "shell.execute_reply": "2021-01-15T20:48:33.334114Z"
    },
    "papermill": {
     "duration": 8.41605,
     "end_time": "2021-01-15T20:48:33.334273",
     "exception": false,
     "start_time": "2021-01-15T20:48:24.918223",
     "status": "completed"
    },
    "tags": []
   },
   "outputs": [
    {
     "data": {
      "text/plain": [
       "LGBMClassifier(boosting_type='gbdt', class_weight=None, colsample_bytree=1.0,\n",
       "               importance_type='split', learning_rate=0.1, max_depth=-1,\n",
       "               min_child_samples=20, min_child_weight=0.001, min_split_gain=0.0,\n",
       "               n_estimators=100, n_jobs=-1, num_leaves=31, objective=None,\n",
       "               random_state=None, reg_alpha=0.0, reg_lambda=0.0, silent=True,\n",
       "               subsample=1.0, subsample_for_bin=200000, subsample_freq=0)"
      ]
     },
     "execution_count": 18,
     "metadata": {},
     "output_type": "execute_result"
    }
   ],
   "source": [
    "lgbmc.fit(df_train, Y)"
   ]
  },
  {
   "cell_type": "code",
   "execution_count": 19,
   "metadata": {
    "execution": {
     "iopub.execute_input": "2021-01-15T20:48:33.388816Z",
     "iopub.status.busy": "2021-01-15T20:48:33.387723Z",
     "iopub.status.idle": "2021-01-15T20:48:34.115494Z",
     "shell.execute_reply": "2021-01-15T20:48:34.116165Z"
    },
    "papermill": {
     "duration": 0.758202,
     "end_time": "2021-01-15T20:48:34.116317",
     "exception": false,
     "start_time": "2021-01-15T20:48:33.358115",
     "status": "completed"
    },
    "tags": []
   },
   "outputs": [
    {
     "data": {
      "text/plain": [
       "1.0"
      ]
     },
     "execution_count": 19,
     "metadata": {},
     "output_type": "execute_result"
    }
   ],
   "source": [
    "AUC_FINAL=metrics.roc_auc_score(Y.values, lgbmc.predict(df_train))\n",
    "AUC_FINAL"
   ]
  },
  {
   "cell_type": "code",
   "execution_count": 20,
   "metadata": {
    "execution": {
     "iopub.execute_input": "2021-01-15T20:48:34.173499Z",
     "iopub.status.busy": "2021-01-15T20:48:34.172428Z",
     "iopub.status.idle": "2021-01-15T20:48:34.617287Z",
     "shell.execute_reply": "2021-01-15T20:48:34.617861Z"
    },
    "papermill": {
     "duration": 0.476466,
     "end_time": "2021-01-15T20:48:34.617997",
     "exception": false,
     "start_time": "2021-01-15T20:48:34.141531",
     "status": "completed"
    },
    "tags": []
   },
   "outputs": [],
   "source": [
    "pd.DataFrame({'encounter_id':unlabeled['encounter_id'].values,\n",
    "    'diabetes_mellitus':lgbmc.predict_proba(df_pred)[:,1]}).to_csv('Predictions_subset.csv',\n",
    "                                                                   index=False)"
   ]
  },
  {
   "cell_type": "code",
   "execution_count": null,
   "metadata": {
    "papermill": {
     "duration": 0.019321,
     "end_time": "2021-01-15T20:48:34.657157",
     "exception": false,
     "start_time": "2021-01-15T20:48:34.637836",
     "status": "completed"
    },
    "tags": []
   },
   "outputs": [],
   "source": []
  }
 ],
 "metadata": {
  "kernelspec": {
   "display_name": "Python 3",
   "language": "python",
   "name": "python3"
  },
  "language_info": {
   "codemirror_mode": {
    "name": "ipython",
    "version": 3
   },
   "file_extension": ".py",
   "mimetype": "text/x-python",
   "name": "python",
   "nbconvert_exporter": "python",
   "pygments_lexer": "ipython3",
   "version": "3.7.4"
  },
  "papermill": {
   "duration": 27.274023,
   "end_time": "2021-01-15T20:48:34.782826",
   "environment_variables": {},
   "exception": null,
   "input_path": "__notebook__.ipynb",
   "output_path": "__notebook__.ipynb",
   "parameters": {},
   "start_time": "2021-01-15T20:48:07.508803",
   "version": "2.1.0"
  }
 },
 "nbformat": 4,
 "nbformat_minor": 4
}
